{
 "cells": [
  {
   "cell_type": "markdown",
   "id": "a23c48a5-867b-40ca-95e5-0b1a587d3953",
   "metadata": {},
   "source": [
    "# This section describes the course overview and setup of the programming environment"
   ]
  },
  {
   "cell_type": "markdown",
   "id": "82699840-c910-4299-bdf5-97fb529dd193",
   "metadata": {},
   "source": [
    "## Overview:\n",
    "* [Installing Python](#install)\n",
    "* [Virtual Environments](#venv)\n",
    "* "
   ]
  },
  {
   "cell_type": "markdown",
   "id": "e3159583-4d8d-4cdf-b70b-3ff9fbb14477",
   "metadata": {},
   "source": [
    "<a id='install'></a>\n",
    "## Install Python\n",
    ";alksdjf;lkasjdf;lkjeo0ijaslikdjf"
   ]
  },
  {
   "cell_type": "markdown",
   "id": "1056a580-4407-4d6b-8c85-306ece526765",
   "metadata": {},
   "source": [
    "<a id='venv'></a>\n",
    "## Virtual Environments"
   ]
  },
  {
   "cell_type": "markdown",
   "id": "0f5eb376-c969-43d5-a8d5-901aa7a8f8f5",
   "metadata": {},
   "source": [
    "## Useful Links:\n",
    "* Python: https://www.python.org/\n",
    "* Colaboratory: https://colab.research.google.com/\n",
    "* JupyterLab: https://jupyter.org/\n",
    "* SymPy: https://www.sympy.org/\n",
    "* NumPy: https://numpy.org/\n",
    "* Pandas: https://pandas.pydata.org/\n",
    "* Matplotlib: https://matplotlib.org/\n",
    "* Bokeh:https://bokeh.org/  \n",
    "* SciPy: https://scipy.org/"
   ]
  },
  {
   "cell_type": "markdown",
   "id": "5078c284-b7dc-4933-8dc0-6d68366abc5d",
   "metadata": {},
   "source": [
    "Return to [Table of Contents](./00_toc.ipynb)"
   ]
  }
 ],
 "metadata": {
  "kernelspec": {
   "display_name": "Python 3 (ipykernel)",
   "language": "python",
   "name": "python3"
  },
  "language_info": {
   "codemirror_mode": {
    "name": "ipython",
    "version": 3
   },
   "file_extension": ".py",
   "mimetype": "text/x-python",
   "name": "python",
   "nbconvert_exporter": "python",
   "pygments_lexer": "ipython3",
   "version": "3.8.5"
  }
 },
 "nbformat": 4,
 "nbformat_minor": 5
}
