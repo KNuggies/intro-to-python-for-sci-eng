{
 "cells": [
  {
   "cell_type": "code",
   "execution_count": 1,
   "id": "9bb1caaa-6657-44e7-ab82-b54fdc0c379a",
   "metadata": {},
   "outputs": [
    {
     "data": {
      "text/html": [
       "\n",
       "        <iframe\n",
       "            width=\"560\"\n",
       "            height=\"315\"\n",
       "            src=\"https://www.youtube.com/embed/5b-YG558ft8\"\n",
       "            frameborder=\"0\"\n",
       "            allowfullscreen\n",
       "            \n",
       "        ></iframe>\n",
       "        "
      ],
      "text/plain": [
       "<IPython.lib.display.IFrame at 0x15d58f2c310>"
      ]
     },
     "execution_count": 1,
     "metadata": {},
     "output_type": "execute_result"
    }
   ],
   "source": [
    "from IPython.display import IFrame, Latex\n",
    "IFrame(\"https://www.youtube.com/embed/5b-YG558ft8\", width='560', height='315')"
   ]
  },
  {
   "cell_type": "markdown",
   "id": "1bc84760-9f91-4c59-8d33-499eeb424e52",
   "metadata": {},
   "source": [
    "# Table of Contents\n",
    "\n",
    "1. [Overview and Setup](./01_overview_and_setup.ipynb)\n",
    "2. "
   ]
  },
  {
   "cell_type": "code",
   "execution_count": null,
   "id": "39c00b32-5ef3-4cf8-87e4-3a620f000e91",
   "metadata": {},
   "outputs": [],
   "source": [
    "Virtual Environments\n",
    "Variables\n",
    "Input/Output\n",
    "Functions\n",
    "Logical Operators\n",
    "Horizontal Motion\n",
    "Intro to Vectors\n"
   ]
  },
  {
   "cell_type": "code",
   "execution_count": null,
   "id": "4e4800bb-fcfc-470c-aa5d-793b30afc53e",
   "metadata": {},
   "outputs": [],
   "source": []
  }
 ],
 "metadata": {
  "kernelspec": {
   "display_name": "Python 3 (ipykernel)",
   "language": "python",
   "name": "python3"
  },
  "language_info": {
   "codemirror_mode": {
    "name": "ipython",
    "version": 3
   },
   "file_extension": ".py",
   "mimetype": "text/x-python",
   "name": "python",
   "nbconvert_exporter": "python",
   "pygments_lexer": "ipython3",
   "version": "3.8.5"
  }
 },
 "nbformat": 4,
 "nbformat_minor": 5
}
